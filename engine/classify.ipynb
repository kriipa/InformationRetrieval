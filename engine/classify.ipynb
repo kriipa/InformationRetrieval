{
 "cells": [
  {
   "cell_type": "code",
   "execution_count": 48,
   "id": "db78f663",
   "metadata": {},
   "outputs": [],
   "source": [
    "\n",
    "\n",
    "import os\n",
    "import numpy as np\n",
    "import pandas as pd"
   ]
  },
  {
   "cell_type": "code",
   "execution_count": 49,
   "id": "e37ad801",
   "metadata": {},
   "outputs": [],
   "source": [
    "from sklearn.feature_extraction.text import TfidfVectorizer\n",
    "from sklearn.naive_bayes import MultinomialNB\n",
    "from sklearn.linear_model import LogisticRegression\n",
    "from sklearn.pipeline import Pipeline\n",
    "from sklearn.model_selection import train_test_split\n",
    "from sklearn.metrics import classification_report"
   ]
  },
  {
   "cell_type": "code",
   "execution_count": 50,
   "id": "3cfad6fc",
   "metadata": {},
   "outputs": [],
   "source": [
    "def load_data_from_csv_files(base_path):\n",
    "    \"\"\"\n",
    "    Loads documents and labels from specific CSV files within the base directory.\n",
    "    Assumes the files are named 'politics.csv', 'business.csv', and 'health.csv'.\n",
    "    \"\"\"\n",
    "    documents = []\n",
    "    labels = []\n",
    "    \n",
    "    # Define a mapping from filename to category\n",
    "    category_map = {\n",
    "        'politics.csv': 'politics',\n",
    "        'business.csv': 'business',\n",
    "        'health.csv': 'health'\n",
    "    }\n",
    "\n",
    "    # Iterate through the files in the base path\n",
    "    for filename in os.listdir(base_path):\n",
    "        if filename.endswith('.csv') and filename in category_map:\n",
    "            file_path = os.path.join(base_path, filename)\n",
    "            category = category_map[filename]\n",
    "            \n",
    "            try:\n",
    "                # Read the CSV file\n",
    "                df = pd.read_csv(file_path, encoding='utf-8')\n",
    "                \n",
    "                # Check for the 'Headline' column\n",
    "                if 'Headline' in df.columns:\n",
    "                    for headline in df['Headline'].fillna('').tolist():\n",
    "                        documents.append(headline)\n",
    "                        labels.append(category)\n",
    "                    print(f\"Loaded {len(df)} documents from {filename} ({category} category).\")\n",
    "                else:\n",
    "                    print(f\"Skipping {filename}: 'Headline' column not found.\")\n",
    "            except Exception as e:\n",
    "                print(f\"Error reading {filename}: {e}\")\n",
    "\n",
    "    print(f\"\\nTotal documents loaded: {len(documents)}\")\n",
    "    return documents, labels\n"
   ]
  },
  {
   "cell_type": "code",
   "execution_count": 51,
   "id": "db07b1c8",
   "metadata": {},
   "outputs": [
    {
     "name": "stdout",
     "output_type": "stream",
     "text": [
      "Loaded 255 documents from politics.csv (politics category).\n",
      "Loaded 255 documents from business.csv (business category).\n",
      "Loaded 202 documents from health.csv (health category).\n",
      "\n",
      "Total documents loaded: 712\n"
     ]
    }
   ],
   "source": [
    "# Set the correct base path\n",
    "data_path = '../data1/'\n",
    "X, y = load_data_from_csv_files(data_path)\n",
    "\n",
    "# You can now proceed with the rest of your original code\n",
    "# X_train, X_test, y_train, y_test = train_test_split(X, y, test_size=0.25, random_state=42)\n",
    "# ... etc.\n"
   ]
  },
  {
   "cell_type": "code",
   "execution_count": 52,
   "id": "480b083e",
   "metadata": {},
   "outputs": [],
   "source": [
    "# Split data into training and testing sets\n",
    "X_train, X_test, y_train, y_test = train_test_split(X, y, test_size=0.25, random_state=42)\n"
   ]
  },
  {
   "cell_type": "code",
   "execution_count": 53,
   "id": "990c9b59",
   "metadata": {},
   "outputs": [],
   "source": [
    "# --- Step 2: Create a Classification Pipeline ---\n",
    "# A Pipeline combines a feature extractor (TF-IDF) and a classifier into a single object.\n",
    "# This makes it easy to train and use the model.\n",
    "\n",
    "# Choose a classifier: Logistic Regression is a solid choice.\n",
    "# Naive Bayes is also excellent, especially for text data.\n",
    "# You can easily swap them here to compare performance.\n",
    "# classifier = MultinomialNB()\n",
    "classifier = LogisticRegression(random_state=42)"
   ]
  },
  {
   "cell_type": "code",
   "execution_count": 54,
   "id": "66e352c0",
   "metadata": {},
   "outputs": [],
   "source": [
    "# TfidfVectorizer converts text into a numerical representation.\n",
    "# It assigns weights to words based on their frequency in a document and the entire corpus.\n",
    "# We'll also remove common English \"stop words\" like 'the', 'is', 'a', etc.,\n",
    "# as they generally don't help with classification.\n",
    "pipeline = Pipeline([\n",
    "    ('vectorizer', TfidfVectorizer(stop_words='english')),\n",
    "    ('classifier', classifier)\n",
    "])"
   ]
  },
  {
   "cell_type": "code",
   "execution_count": 55,
   "id": "3454bc54",
   "metadata": {},
   "outputs": [
    {
     "name": "stdout",
     "output_type": "stream",
     "text": [
      "Training the model...\n",
      "Training complete.\n"
     ]
    }
   ],
   "source": [
    "# --- Step 3: Train the Model ---\n",
    "print(\"Training the model...\")\n",
    "pipeline.fit(X_train, y_train)\n",
    "print(\"Training complete.\")"
   ]
  },
  {
   "cell_type": "code",
   "execution_count": 56,
   "id": "d9e87198",
   "metadata": {},
   "outputs": [
    {
     "name": "stdout",
     "output_type": "stream",
     "text": [
      "\n",
      "Evaluating model performance...\n",
      "              precision    recall  f1-score   support\n",
      "\n",
      "    business       0.66      0.86      0.74        56\n",
      "      health       0.68      0.56      0.61        48\n",
      "    politics       0.89      0.78      0.83        74\n",
      "\n",
      "    accuracy                           0.75       178\n",
      "   macro avg       0.74      0.73      0.73       178\n",
      "weighted avg       0.76      0.75      0.75       178\n",
      "\n"
     ]
    }
   ],
   "source": [
    "# --- Step 4: Evaluate the Model (for your viva and report) ---\n",
    "print(\"\\nEvaluating model performance...\")\n",
    "y_pred = pipeline.predict(X_test)\n",
    "print(classification_report(y_test, y_pred))"
   ]
  },
  {
   "cell_type": "code",
   "execution_count": 57,
   "id": "1c39db35",
   "metadata": {},
   "outputs": [],
   "source": [
    "# --- Step 5: Classify a New Document ---\n",
    "def classify_document(model, document_text):\n",
    "    \"\"\"\n",
    "    Predicts the category of a new document.\n",
    "    \"\"\"\n",
    "    predicted_category = model.predict([document_text])\n",
    "    return predicted_category[0]"
   ]
  },
  {
   "cell_type": "code",
   "execution_count": 68,
   "id": "575fbdd5",
   "metadata": {},
   "outputs": [],
   "source": [
    "# Example inputs to demonstrate robustness\n",
    "test_documents = [\n",
    "    # Short input, without stop words\n",
    "    \"i am pari\", \n",
    "    # Long input, with stop words's speech \n",
    "    \"The new regulations will have a significant impact on global markets, with economists predicting a period of both challenges and opportunities for investors and large corporations.\",\n",
    "    # Different topic\n",
    "    \"Researchers have developed a breakthrough treatment for a rare disease, which could save countless lives across the world.\",\n",
    "    # Challenging input (mix of topics)\n",
    "    \"The prime minister announced a new public health initiative aimed at reducing obesity, with funding from a tax on sugary drinks to be implemented by the Treasury.\",\n",
    "    # Another challenging input\n",
    "    \"A new study on the stock market shows that while tech stocks are booming, there is a looming economic recession that could affect public welfare.\"\n",
    "]\n",
    "\n"
   ]
  },
  {
   "cell_type": "code",
   "execution_count": 69,
   "id": "a0cee750",
   "metadata": {},
   "outputs": [
    {
     "name": "stdout",
     "output_type": "stream",
     "text": [
      "\n",
      "--- Testing new documents ---\n",
      "Document: 'i am pari'\n",
      "Predicted Category: business\n",
      "\n",
      "Document: 'The new regulations will have a significant impact on global markets, with economists predicting a period of both challenges and opportunities for investors and large corporations.'\n",
      "Predicted Category: business\n",
      "\n",
      "Document: 'Researchers have developed a breakthrough treatment for a rare disease, which could save countless lives across the world.'\n",
      "Predicted Category: health\n",
      "\n",
      "Document: 'The prime minister announced a new public health initiative aimed at reducing obesity, with funding from a tax on sugary drinks to be implemented by the Treasury.'\n",
      "Predicted Category: health\n",
      "\n",
      "Document: 'A new study on the stock market shows that while tech stocks are booming, there is a looming economic recession that could affect public welfare.'\n",
      "Predicted Category: business\n",
      "\n"
     ]
    }
   ],
   "source": [
    "print(\"\\n--- Testing new documents ---\")\n",
    "for doc in test_documents:\n",
    "    predicted_class = classify_document(pipeline, doc)\n",
    "    print(f\"Document: '{doc}'\")\n",
    "    print(f\"Predicted Category: {predicted_class}\\n\")"
   ]
  },
  {
   "cell_type": "code",
   "execution_count": 70,
   "id": "1308877f",
   "metadata": {},
   "outputs": [
    {
     "name": "stderr",
     "output_type": "stream",
     "text": [
      "Matplotlib is building the font cache; this may take a moment.\n"
     ]
    },
    {
     "name": "stdout",
     "output_type": "stream",
     "text": [
      "\n",
      "Creating Confusion Matrix Plot...\n",
      "Confusion Matrix plot saved as confusion_matrix.png\n"
     ]
    },
    {
     "data": {
      "image/png": "[encoded data removed]",
      "text/plain": [
       "<Figure size 800x600 with 2 Axes>"
      ]
     },
     "metadata": {},
     "output_type": "display_data"
    },
    {
     "name": "stdout",
     "output_type": "stream",
     "text": [
      "\n",
      "Creating Bar Chart of Performance Metrics...\n",
      "Performance Metrics Bar Chart plot saved as performance_metrics_bar_chart.png\n"
     ]
    },
    {
     "data": {
      "image/png": "[encoded data removed]",
      "text/plain": [
       "<Figure size 1000x700 with 1 Axes>"
      ]
     },
     "metadata": {},
     "output_type": "display_data"
    }
   ],
   "source": [
    "# Import necessary libraries for visualization and metrics\n",
    "import matplotlib.pyplot as plt\n",
    "import seaborn as sns\n",
    "from sklearn.metrics import confusion_matrix\n",
    "import pandas as pd\n",
    "\n",
    "# Get the unique class labels for the plot axes\n",
    "classes = sorted(np.unique(y_test))\n",
    "\n",
    "# --- Create and Plot the Confusion Matrix ---\n",
    "print(\"\\nCreating Confusion Matrix Plot...\")\n",
    "cm = confusion_matrix(y_test, y_pred, labels=classes)\n",
    "\n",
    "plt.figure(figsize=(8, 6))\n",
    "sns.heatmap(cm, annot=True, fmt='d', cmap='Blues', xticklabels=classes, yticklabels=classes)\n",
    "plt.title('Confusion Matrix for News Classification')\n",
    "plt.ylabel('True Category')\n",
    "plt.xlabel('Predicted Category')\n",
    "plt.savefig('confusion_matrix.png')\n",
    "print(\"Confusion Matrix plot saved as confusion_matrix.png\")\n",
    "plt.show()\n",
    "\n",
    "# --- Parse Classification Report and Create Bar Chart ---\n",
    "print(\"\\nCreating Bar Chart of Performance Metrics...\")\n",
    "report = classification_report(y_test, y_pred, output_dict=True)\n",
    "\n",
    "# Remove 'accuracy' and 'macro avg' from the report dictionary for plotting\n",
    "del report['accuracy']\n",
    "del report['macro avg']\n",
    "del report['weighted avg']\n",
    "\n",
    "metrics_df = pd.DataFrame(report).transpose()\n",
    "metrics_df = metrics_df[['precision', 'recall', 'f1-score']]\n",
    "\n",
    "metrics_df.plot(kind='bar', figsize=(10, 7))\n",
    "plt.title('Precision, Recall, and F1-Score by Category')\n",
    "plt.xlabel('Category')\n",
    "plt.ylabel('Score')\n",
    "plt.xticks(rotation=45, ha='right')\n",
    "plt.ylim(0, 1.1)\n",
    "plt.legend(loc='lower right')\n",
    "plt.tight_layout()\n",
    "plt.savefig('performance_metrics_bar_chart.png')\n",
    "print(\"Performance Metrics Bar Chart plot saved as performance_metrics_bar_chart.png\")\n",
    "plt.show()"
   ]
  }
 ],
 "metadata": {
  "kernelspec": {
   "display_name": "scolar",
   "language": "python",
   "name": "python3"
  },
  "language_info": {
   "codemirror_mode": {
    "name": "ipython",
    "version": 3
   },
   "file_extension": ".py",
   "mimetype": "text/x-python",
   "name": "python",
   "nbconvert_exporter": "python",
   "pygments_lexer": "ipython3",
   "version": "3.13.2"
  }
 },
 "nbformat": 4,
 "nbformat_minor": 5
}
